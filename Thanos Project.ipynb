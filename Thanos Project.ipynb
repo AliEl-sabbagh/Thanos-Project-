{
 "cells": [
  {
   "cell_type": "markdown",
   "metadata": {},
   "source": [
    "- Make a copy of the Universe images in the backup folder.\n",
    "- make a function to kill half the images in universe folder randomly.\n",
    "- call the func several times to kill the entire population( half the number of images each time).\n",
    "- Import the images again to the universe folder from the backup folder.\n",
    "- Create another folder and take a copy from the images with different random names consisting of 5 letters."
   ]
  },
  {
   "cell_type": "code",
   "execution_count": 24,
   "metadata": {},
   "outputs": [],
   "source": [
    "import shutil\n",
    "import os\n",
    "import random\n",
    "import string"
   ]
  },
  {
   "cell_type": "markdown",
   "metadata": {},
   "source": [
    "### Task1: Make a copy of the Universe images in the backup folder."
   ]
  },
  {
   "cell_type": "code",
   "execution_count": 27,
   "metadata": {},
   "outputs": [],
   "source": [
    "images_list=os.listdir('universe')\n",
    "\n",
    "for img in images_list:\n",
    "    \n",
    "    shutil.copy(src=f'universe/{img}',dst='backup')"
   ]
  },
  {
   "cell_type": "code",
   "execution_count": 26,
   "metadata": {},
   "outputs": [],
   "source": [
    "# To remove all images from backup folder\n",
    "\n",
    "for img in images_list:\n",
    "    \n",
    "    os.remove(f'backup/{img}')"
   ]
  },
  {
   "cell_type": "markdown",
   "metadata": {},
   "source": [
    "### Task2: make a function to kill half the images in universe folder randomly."
   ]
  },
  {
   "cell_type": "code",
   "execution_count": 28,
   "metadata": {},
   "outputs": [],
   "source": [
    "def kill_half_images(universe_path: str):\n",
    "\n",
    "    backup_list=os.listdir(universe_path)\n",
    "\n",
    "    n= len(backup_list)//2\n",
    "\n",
    "    if len(backup_list)==1:\n",
    "    \n",
    "      n=1\n",
    "\n",
    "    random_list=random.sample(backup_list, k=n)\n",
    "\n",
    "    for img in random_list:\n",
    "\n",
    "      os.remove(f'{universe_path}/{img}') "
   ]
  },
  {
   "cell_type": "code",
   "execution_count": 35,
   "metadata": {},
   "outputs": [],
   "source": [
    "kill_half_images(universe_path='universe')"
   ]
  },
  {
   "cell_type": "markdown",
   "metadata": {},
   "source": [
    "### Task3: call the func several times to kill the entire population( half the number of images each time)."
   ]
  },
  {
   "cell_type": "code",
   "execution_count": 36,
   "metadata": {},
   "outputs": [],
   "source": [
    "elements_in_universe=len(os.listdir('universe'))\n",
    "\n",
    "for img in range (elements_in_universe):\n",
    "\n",
    "    kill_half_images(universe_path='universe')"
   ]
  },
  {
   "cell_type": "markdown",
   "metadata": {},
   "source": [
    "### Task4: Import the images again to the universe folder from the backup folder."
   ]
  },
  {
   "cell_type": "code",
   "execution_count": 37,
   "metadata": {},
   "outputs": [],
   "source": [
    "backup_list=os.listdir('backup')\n",
    "\n",
    "for img in backup_list:\n",
    "    \n",
    "    shutil.copy(src=f'backup/{img}',dst='universe')"
   ]
  },
  {
   "cell_type": "markdown",
   "metadata": {},
   "source": [
    "### Task5: Create another folder and take a copy from the images with different random names consisting of 5 letters."
   ]
  },
  {
   "cell_type": "code",
   "execution_count": 38,
   "metadata": {},
   "outputs": [],
   "source": [
    "os.mkdir('random names')"
   ]
  },
  {
   "cell_type": "code",
   "execution_count": 39,
   "metadata": {},
   "outputs": [
    {
     "name": "stdout",
     "output_type": "stream",
     "text": [
      "abcdefghijklmnopqrstuvwxyz\n"
     ]
    }
   ],
   "source": [
    "alphabets=string.ascii_lowercase\n",
    "print(alphabets)"
   ]
  },
  {
   "cell_type": "code",
   "execution_count": 40,
   "metadata": {},
   "outputs": [],
   "source": [
    "\n",
    "images_list=os.listdir('universe')\n",
    "\n",
    "for img in images_list:\n",
    "\n",
    "    random_name=random.choices(alphabets, k=5)\n",
    "\n",
    "    random_name=''.join(random_name)\n",
    "\n",
    "    random_name=random_name + '.png'\n",
    "\n",
    "    os.rename(f'universe\\{img}', f'random names/{random_name}')"
   ]
  }
 ],
 "metadata": {
  "kernelspec": {
   "display_name": "base",
   "language": "python",
   "name": "python3"
  },
  "language_info": {
   "codemirror_mode": {
    "name": "ipython",
    "version": 3
   },
   "file_extension": ".py",
   "mimetype": "text/x-python",
   "name": "python",
   "nbconvert_exporter": "python",
   "pygments_lexer": "ipython3",
   "version": "3.7.6"
  }
 },
 "nbformat": 4,
 "nbformat_minor": 2
}
